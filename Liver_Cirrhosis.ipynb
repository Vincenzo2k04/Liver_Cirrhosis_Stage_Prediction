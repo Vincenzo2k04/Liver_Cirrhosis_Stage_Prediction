{
 "cells": [
  {
   "cell_type": "code",
   "execution_count": 1,
   "id": "a2378f49",
   "metadata": {},
   "outputs": [],
   "source": [
    "import pandas as pd\n",
    "import numpy as np\n",
    "import joblib"
   ]
  },
  {
   "cell_type": "code",
   "execution_count": 2,
   "id": "04ceaa94",
   "metadata": {},
   "outputs": [],
   "source": [
    "df = pd.read_csv(r\"E:\\Projects\\liver_cirrhosis_stage\\liver_cirrhosis_stage\\liver_cirrhosis.csv\")"
   ]
  },
  {
   "cell_type": "code",
   "execution_count": 3,
   "id": "8eed4426",
   "metadata": {},
   "outputs": [
    {
     "data": {
      "text/html": [
       "<div>\n",
       "<style scoped>\n",
       "    .dataframe tbody tr th:only-of-type {\n",
       "        vertical-align: middle;\n",
       "    }\n",
       "\n",
       "    .dataframe tbody tr th {\n",
       "        vertical-align: top;\n",
       "    }\n",
       "\n",
       "    .dataframe thead th {\n",
       "        text-align: right;\n",
       "    }\n",
       "</style>\n",
       "<table border=\"1\" class=\"dataframe\">\n",
       "  <thead>\n",
       "    <tr style=\"text-align: right;\">\n",
       "      <th></th>\n",
       "      <th>N_Days</th>\n",
       "      <th>Status</th>\n",
       "      <th>Drug</th>\n",
       "      <th>Age</th>\n",
       "      <th>Sex</th>\n",
       "      <th>Ascites</th>\n",
       "      <th>Hepatomegaly</th>\n",
       "      <th>Spiders</th>\n",
       "      <th>Edema</th>\n",
       "      <th>Bilirubin</th>\n",
       "      <th>Cholesterol</th>\n",
       "      <th>Albumin</th>\n",
       "      <th>Copper</th>\n",
       "      <th>Alk_Phos</th>\n",
       "      <th>SGOT</th>\n",
       "      <th>Tryglicerides</th>\n",
       "      <th>Platelets</th>\n",
       "      <th>Prothrombin</th>\n",
       "      <th>Stage</th>\n",
       "    </tr>\n",
       "  </thead>\n",
       "  <tbody>\n",
       "    <tr>\n",
       "      <th>0</th>\n",
       "      <td>2221</td>\n",
       "      <td>C</td>\n",
       "      <td>Placebo</td>\n",
       "      <td>18499</td>\n",
       "      <td>F</td>\n",
       "      <td>N</td>\n",
       "      <td>Y</td>\n",
       "      <td>N</td>\n",
       "      <td>N</td>\n",
       "      <td>0.5</td>\n",
       "      <td>149.0</td>\n",
       "      <td>4.04</td>\n",
       "      <td>227.0</td>\n",
       "      <td>598.0</td>\n",
       "      <td>52.70</td>\n",
       "      <td>57.0</td>\n",
       "      <td>256.0</td>\n",
       "      <td>9.9</td>\n",
       "      <td>1</td>\n",
       "    </tr>\n",
       "    <tr>\n",
       "      <th>1</th>\n",
       "      <td>1230</td>\n",
       "      <td>C</td>\n",
       "      <td>Placebo</td>\n",
       "      <td>19724</td>\n",
       "      <td>M</td>\n",
       "      <td>Y</td>\n",
       "      <td>N</td>\n",
       "      <td>Y</td>\n",
       "      <td>N</td>\n",
       "      <td>0.5</td>\n",
       "      <td>219.0</td>\n",
       "      <td>3.93</td>\n",
       "      <td>22.0</td>\n",
       "      <td>663.0</td>\n",
       "      <td>45.00</td>\n",
       "      <td>75.0</td>\n",
       "      <td>220.0</td>\n",
       "      <td>10.8</td>\n",
       "      <td>2</td>\n",
       "    </tr>\n",
       "    <tr>\n",
       "      <th>2</th>\n",
       "      <td>4184</td>\n",
       "      <td>C</td>\n",
       "      <td>Placebo</td>\n",
       "      <td>11839</td>\n",
       "      <td>F</td>\n",
       "      <td>N</td>\n",
       "      <td>N</td>\n",
       "      <td>N</td>\n",
       "      <td>N</td>\n",
       "      <td>0.5</td>\n",
       "      <td>320.0</td>\n",
       "      <td>3.54</td>\n",
       "      <td>51.0</td>\n",
       "      <td>1243.0</td>\n",
       "      <td>122.45</td>\n",
       "      <td>80.0</td>\n",
       "      <td>225.0</td>\n",
       "      <td>10.0</td>\n",
       "      <td>2</td>\n",
       "    </tr>\n",
       "    <tr>\n",
       "      <th>3</th>\n",
       "      <td>2090</td>\n",
       "      <td>D</td>\n",
       "      <td>Placebo</td>\n",
       "      <td>16467</td>\n",
       "      <td>F</td>\n",
       "      <td>N</td>\n",
       "      <td>N</td>\n",
       "      <td>N</td>\n",
       "      <td>N</td>\n",
       "      <td>0.7</td>\n",
       "      <td>255.0</td>\n",
       "      <td>3.74</td>\n",
       "      <td>23.0</td>\n",
       "      <td>1024.0</td>\n",
       "      <td>77.50</td>\n",
       "      <td>58.0</td>\n",
       "      <td>151.0</td>\n",
       "      <td>10.2</td>\n",
       "      <td>2</td>\n",
       "    </tr>\n",
       "    <tr>\n",
       "      <th>4</th>\n",
       "      <td>2105</td>\n",
       "      <td>D</td>\n",
       "      <td>Placebo</td>\n",
       "      <td>21699</td>\n",
       "      <td>F</td>\n",
       "      <td>N</td>\n",
       "      <td>Y</td>\n",
       "      <td>N</td>\n",
       "      <td>N</td>\n",
       "      <td>1.9</td>\n",
       "      <td>486.0</td>\n",
       "      <td>3.54</td>\n",
       "      <td>74.0</td>\n",
       "      <td>1052.0</td>\n",
       "      <td>108.50</td>\n",
       "      <td>109.0</td>\n",
       "      <td>151.0</td>\n",
       "      <td>11.5</td>\n",
       "      <td>1</td>\n",
       "    </tr>\n",
       "  </tbody>\n",
       "</table>\n",
       "</div>"
      ],
      "text/plain": [
       "   N_Days Status     Drug    Age Sex Ascites Hepatomegaly Spiders Edema  \\\n",
       "0    2221      C  Placebo  18499   F       N            Y       N     N   \n",
       "1    1230      C  Placebo  19724   M       Y            N       Y     N   \n",
       "2    4184      C  Placebo  11839   F       N            N       N     N   \n",
       "3    2090      D  Placebo  16467   F       N            N       N     N   \n",
       "4    2105      D  Placebo  21699   F       N            Y       N     N   \n",
       "\n",
       "   Bilirubin  Cholesterol  Albumin  Copper  Alk_Phos    SGOT  Tryglicerides  \\\n",
       "0        0.5        149.0     4.04   227.0     598.0   52.70           57.0   \n",
       "1        0.5        219.0     3.93    22.0     663.0   45.00           75.0   \n",
       "2        0.5        320.0     3.54    51.0    1243.0  122.45           80.0   \n",
       "3        0.7        255.0     3.74    23.0    1024.0   77.50           58.0   \n",
       "4        1.9        486.0     3.54    74.0    1052.0  108.50          109.0   \n",
       "\n",
       "   Platelets  Prothrombin  Stage  \n",
       "0      256.0          9.9      1  \n",
       "1      220.0         10.8      2  \n",
       "2      225.0         10.0      2  \n",
       "3      151.0         10.2      2  \n",
       "4      151.0         11.5      1  "
      ]
     },
     "execution_count": 3,
     "metadata": {},
     "output_type": "execute_result"
    }
   ],
   "source": [
    "df.head()"
   ]
  },
  {
   "cell_type": "code",
   "execution_count": 4,
   "id": "86c3a035",
   "metadata": {},
   "outputs": [
    {
     "data": {
      "text/plain": [
       "<bound method NDFrame.describe of        N_Days Status             Drug    Age Sex Ascites Hepatomegaly Spiders  \\\n",
       "0        2221      C          Placebo  18499   F       N            Y       N   \n",
       "1        1230      C          Placebo  19724   M       Y            N       Y   \n",
       "2        4184      C          Placebo  11839   F       N            N       N   \n",
       "3        2090      D          Placebo  16467   F       N            N       N   \n",
       "4        2105      D          Placebo  21699   F       N            Y       N   \n",
       "...       ...    ...              ...    ...  ..     ...          ...     ...   \n",
       "24995    3584      D  D-penicillamine  23612   F       N            N       N   \n",
       "24996    3584      D  D-penicillamine  23612   F       N            N       N   \n",
       "24997     971      D  D-penicillamine  16736   F       N            Y       Y   \n",
       "24998    3707      C  D-penicillamine  16990   F       N            Y       N   \n",
       "24999    3707      C  D-penicillamine  16990   F       N            Y       N   \n",
       "\n",
       "      Edema  Bilirubin  Cholesterol  Albumin  Copper  Alk_Phos    SGOT  \\\n",
       "0         N        0.5   149.000000     4.04   227.0     598.0   52.70   \n",
       "1         N        0.5   219.000000     3.93    22.0     663.0   45.00   \n",
       "2         N        0.5   320.000000     3.54    51.0    1243.0  122.45   \n",
       "3         N        0.7   255.000000     3.74    23.0    1024.0   77.50   \n",
       "4         N        1.9   486.000000     3.54    74.0    1052.0  108.50   \n",
       "...     ...        ...          ...      ...     ...       ...     ...   \n",
       "24995     N        0.8   231.000000     3.87   173.0    9009.8  127.71   \n",
       "24996     N        0.8   231.000000     3.87   173.0    9009.8  127.71   \n",
       "24997     Y        5.1   369.510563     3.23    18.0     790.0  179.80   \n",
       "24998     N        0.8   315.000000     4.24    13.0    1637.0  170.50   \n",
       "24999     N        0.8   315.000000     4.24    13.0    1637.0  170.50   \n",
       "\n",
       "       Tryglicerides  Platelets  Prothrombin  Stage  \n",
       "0          57.000000      256.0          9.9      1  \n",
       "1          75.000000      220.0         10.8      2  \n",
       "2          80.000000      225.0         10.0      2  \n",
       "3          58.000000      151.0         10.2      2  \n",
       "4         109.000000      151.0         11.5      1  \n",
       "...              ...        ...          ...    ...  \n",
       "24995      96.000000      295.0         11.0      2  \n",
       "24996      96.000000      295.0         11.0      2  \n",
       "24997     124.702128      104.0         13.0      3  \n",
       "24998      70.000000      426.0         10.9      2  \n",
       "24999      70.000000      426.0         10.9      2  \n",
       "\n",
       "[25000 rows x 19 columns]>"
      ]
     },
     "execution_count": 4,
     "metadata": {},
     "output_type": "execute_result"
    }
   ],
   "source": [
    "df.describe"
   ]
  },
  {
   "cell_type": "code",
   "execution_count": 5,
   "id": "5d2eb76f",
   "metadata": {},
   "outputs": [
    {
     "data": {
      "text/plain": [
       "<bound method DataFrame.info of        N_Days Status             Drug    Age Sex Ascites Hepatomegaly Spiders  \\\n",
       "0        2221      C          Placebo  18499   F       N            Y       N   \n",
       "1        1230      C          Placebo  19724   M       Y            N       Y   \n",
       "2        4184      C          Placebo  11839   F       N            N       N   \n",
       "3        2090      D          Placebo  16467   F       N            N       N   \n",
       "4        2105      D          Placebo  21699   F       N            Y       N   \n",
       "...       ...    ...              ...    ...  ..     ...          ...     ...   \n",
       "24995    3584      D  D-penicillamine  23612   F       N            N       N   \n",
       "24996    3584      D  D-penicillamine  23612   F       N            N       N   \n",
       "24997     971      D  D-penicillamine  16736   F       N            Y       Y   \n",
       "24998    3707      C  D-penicillamine  16990   F       N            Y       N   \n",
       "24999    3707      C  D-penicillamine  16990   F       N            Y       N   \n",
       "\n",
       "      Edema  Bilirubin  Cholesterol  Albumin  Copper  Alk_Phos    SGOT  \\\n",
       "0         N        0.5   149.000000     4.04   227.0     598.0   52.70   \n",
       "1         N        0.5   219.000000     3.93    22.0     663.0   45.00   \n",
       "2         N        0.5   320.000000     3.54    51.0    1243.0  122.45   \n",
       "3         N        0.7   255.000000     3.74    23.0    1024.0   77.50   \n",
       "4         N        1.9   486.000000     3.54    74.0    1052.0  108.50   \n",
       "...     ...        ...          ...      ...     ...       ...     ...   \n",
       "24995     N        0.8   231.000000     3.87   173.0    9009.8  127.71   \n",
       "24996     N        0.8   231.000000     3.87   173.0    9009.8  127.71   \n",
       "24997     Y        5.1   369.510563     3.23    18.0     790.0  179.80   \n",
       "24998     N        0.8   315.000000     4.24    13.0    1637.0  170.50   \n",
       "24999     N        0.8   315.000000     4.24    13.0    1637.0  170.50   \n",
       "\n",
       "       Tryglicerides  Platelets  Prothrombin  Stage  \n",
       "0          57.000000      256.0          9.9      1  \n",
       "1          75.000000      220.0         10.8      2  \n",
       "2          80.000000      225.0         10.0      2  \n",
       "3          58.000000      151.0         10.2      2  \n",
       "4         109.000000      151.0         11.5      1  \n",
       "...              ...        ...          ...    ...  \n",
       "24995      96.000000      295.0         11.0      2  \n",
       "24996      96.000000      295.0         11.0      2  \n",
       "24997     124.702128      104.0         13.0      3  \n",
       "24998      70.000000      426.0         10.9      2  \n",
       "24999      70.000000      426.0         10.9      2  \n",
       "\n",
       "[25000 rows x 19 columns]>"
      ]
     },
     "execution_count": 5,
     "metadata": {},
     "output_type": "execute_result"
    }
   ],
   "source": [
    "df.info"
   ]
  },
  {
   "cell_type": "markdown",
   "id": "c5902a42",
   "metadata": {},
   "source": [
    "Now, we will proceed with data preprocessing"
   ]
  },
  {
   "cell_type": "code",
   "execution_count": 6,
   "id": "34155ee8",
   "metadata": {},
   "outputs": [],
   "source": [
    "#Null removal\n",
    "df.dropna(inplace=True)"
   ]
  },
  {
   "cell_type": "code",
   "execution_count": 7,
   "id": "394ee0c3",
   "metadata": {},
   "outputs": [
    {
     "data": {
      "text/plain": [
       "(25000, 19)"
      ]
     },
     "execution_count": 7,
     "metadata": {},
     "output_type": "execute_result"
    }
   ],
   "source": [
    "df.shape"
   ]
  },
  {
   "cell_type": "code",
   "execution_count": 8,
   "id": "efba4e7b",
   "metadata": {},
   "outputs": [],
   "source": [
    "#Outlier removal\n",
    "numeric_cols = df.select_dtypes(include=['number']).columns.tolist()\n",
    "\n",
    "Q1 = df[numeric_cols].quantile(0.25)\n",
    "Q3 = df[numeric_cols].quantile(0.75)\n",
    "IQR = Q3 - Q1\n",
    "lower_bound = Q1 - 1.5 * IQR\n",
    "upper_bound = Q3 + 1.5 * IQR\n",
    "\n",
    "outlier_indices = df[((df[numeric_cols] < lower_bound) | (df[numeric_cols] > upper_bound)).any(axis=1)].index\n",
    "\n",
    "df.drop(outlier_indices, inplace=True)"
   ]
  },
  {
   "cell_type": "code",
   "execution_count": 9,
   "id": "800387db",
   "metadata": {},
   "outputs": [
    {
     "data": {
      "text/plain": [
       "(15361, 19)"
      ]
     },
     "execution_count": 9,
     "metadata": {},
     "output_type": "execute_result"
    }
   ],
   "source": [
    "df.shape"
   ]
  },
  {
   "cell_type": "code",
   "execution_count": 10,
   "id": "4b6a162d",
   "metadata": {},
   "outputs": [],
   "source": [
    "#Normalization\n",
    "from sklearn.preprocessing import MinMaxScaler\n",
    "numeric_cols_for_normalization = df.select_dtypes(include=['number']).columns.tolist()\n",
    "if 'Stage' in numeric_cols_for_normalization:\n",
    "    numeric_cols_for_normalization.remove('Stage')\n",
    "scaler = MinMaxScaler()\n",
    "df[numeric_cols_for_normalization] = scaler.fit_transform(df[numeric_cols_for_normalization])\n"
   ]
  },
  {
   "cell_type": "code",
   "execution_count": 11,
   "id": "940c88e4",
   "metadata": {},
   "outputs": [
    {
     "data": {
      "text/html": [
       "<div>\n",
       "<style scoped>\n",
       "    .dataframe tbody tr th:only-of-type {\n",
       "        vertical-align: middle;\n",
       "    }\n",
       "\n",
       "    .dataframe tbody tr th {\n",
       "        vertical-align: top;\n",
       "    }\n",
       "\n",
       "    .dataframe thead th {\n",
       "        text-align: right;\n",
       "    }\n",
       "</style>\n",
       "<table border=\"1\" class=\"dataframe\">\n",
       "  <thead>\n",
       "    <tr style=\"text-align: right;\">\n",
       "      <th></th>\n",
       "      <th>N_Days</th>\n",
       "      <th>Status</th>\n",
       "      <th>Drug</th>\n",
       "      <th>Age</th>\n",
       "      <th>Sex</th>\n",
       "      <th>Ascites</th>\n",
       "      <th>Hepatomegaly</th>\n",
       "      <th>Spiders</th>\n",
       "      <th>Edema</th>\n",
       "      <th>Bilirubin</th>\n",
       "      <th>Cholesterol</th>\n",
       "      <th>Albumin</th>\n",
       "      <th>Copper</th>\n",
       "      <th>Alk_Phos</th>\n",
       "      <th>SGOT</th>\n",
       "      <th>Tryglicerides</th>\n",
       "      <th>Platelets</th>\n",
       "      <th>Prothrombin</th>\n",
       "      <th>Stage</th>\n",
       "    </tr>\n",
       "  </thead>\n",
       "  <tbody>\n",
       "    <tr>\n",
       "      <th>1</th>\n",
       "      <td>0.250105</td>\n",
       "      <td>C</td>\n",
       "      <td>Placebo</td>\n",
       "      <td>0.531493</td>\n",
       "      <td>M</td>\n",
       "      <td>Y</td>\n",
       "      <td>N</td>\n",
       "      <td>Y</td>\n",
       "      <td>N</td>\n",
       "      <td>0.029412</td>\n",
       "      <td>0.193732</td>\n",
       "      <td>0.741379</td>\n",
       "      <td>0.097826</td>\n",
       "      <td>0.122744</td>\n",
       "      <td>0.099237</td>\n",
       "      <td>0.229630</td>\n",
       "      <td>0.353774</td>\n",
       "      <td>0.486486</td>\n",
       "      <td>2</td>\n",
       "    </tr>\n",
       "    <tr>\n",
       "      <th>2</th>\n",
       "      <td>0.871477</td>\n",
       "      <td>C</td>\n",
       "      <td>Placebo</td>\n",
       "      <td>0.117625</td>\n",
       "      <td>F</td>\n",
       "      <td>N</td>\n",
       "      <td>N</td>\n",
       "      <td>N</td>\n",
       "      <td>N</td>\n",
       "      <td>0.029412</td>\n",
       "      <td>0.481481</td>\n",
       "      <td>0.517241</td>\n",
       "      <td>0.255435</td>\n",
       "      <td>0.313095</td>\n",
       "      <td>0.554022</td>\n",
       "      <td>0.266667</td>\n",
       "      <td>0.365566</td>\n",
       "      <td>0.270270</td>\n",
       "      <td>2</td>\n",
       "    </tr>\n",
       "    <tr>\n",
       "      <th>3</th>\n",
       "      <td>0.431005</td>\n",
       "      <td>D</td>\n",
       "      <td>Placebo</td>\n",
       "      <td>0.360540</td>\n",
       "      <td>F</td>\n",
       "      <td>N</td>\n",
       "      <td>N</td>\n",
       "      <td>N</td>\n",
       "      <td>N</td>\n",
       "      <td>0.058824</td>\n",
       "      <td>0.296296</td>\n",
       "      <td>0.632184</td>\n",
       "      <td>0.103261</td>\n",
       "      <td>0.241221</td>\n",
       "      <td>0.290076</td>\n",
       "      <td>0.103704</td>\n",
       "      <td>0.191038</td>\n",
       "      <td>0.324324</td>\n",
       "      <td>2</td>\n",
       "    </tr>\n",
       "    <tr>\n",
       "      <th>4</th>\n",
       "      <td>0.434161</td>\n",
       "      <td>D</td>\n",
       "      <td>Placebo</td>\n",
       "      <td>0.635156</td>\n",
       "      <td>F</td>\n",
       "      <td>N</td>\n",
       "      <td>Y</td>\n",
       "      <td>N</td>\n",
       "      <td>N</td>\n",
       "      <td>0.235294</td>\n",
       "      <td>0.954416</td>\n",
       "      <td>0.517241</td>\n",
       "      <td>0.380435</td>\n",
       "      <td>0.250410</td>\n",
       "      <td>0.472108</td>\n",
       "      <td>0.481481</td>\n",
       "      <td>0.191038</td>\n",
       "      <td>0.675676</td>\n",
       "      <td>1</td>\n",
       "    </tr>\n",
       "    <tr>\n",
       "      <th>8</th>\n",
       "      <td>0.518090</td>\n",
       "      <td>C</td>\n",
       "      <td>Placebo</td>\n",
       "      <td>0.297449</td>\n",
       "      <td>F</td>\n",
       "      <td>N</td>\n",
       "      <td>N</td>\n",
       "      <td>N</td>\n",
       "      <td>N</td>\n",
       "      <td>0.294118</td>\n",
       "      <td>0.622537</td>\n",
       "      <td>0.741379</td>\n",
       "      <td>0.108696</td>\n",
       "      <td>0.505087</td>\n",
       "      <td>0.617733</td>\n",
       "      <td>0.597794</td>\n",
       "      <td>0.952830</td>\n",
       "      <td>0.513514</td>\n",
       "      <td>1</td>\n",
       "    </tr>\n",
       "  </tbody>\n",
       "</table>\n",
       "</div>"
      ],
      "text/plain": [
       "     N_Days Status     Drug       Age Sex Ascites Hepatomegaly Spiders Edema  \\\n",
       "1  0.250105      C  Placebo  0.531493   M       Y            N       Y     N   \n",
       "2  0.871477      C  Placebo  0.117625   F       N            N       N     N   \n",
       "3  0.431005      D  Placebo  0.360540   F       N            N       N     N   \n",
       "4  0.434161      D  Placebo  0.635156   F       N            Y       N     N   \n",
       "8  0.518090      C  Placebo  0.297449   F       N            N       N     N   \n",
       "\n",
       "   Bilirubin  Cholesterol   Albumin    Copper  Alk_Phos      SGOT  \\\n",
       "1   0.029412     0.193732  0.741379  0.097826  0.122744  0.099237   \n",
       "2   0.029412     0.481481  0.517241  0.255435  0.313095  0.554022   \n",
       "3   0.058824     0.296296  0.632184  0.103261  0.241221  0.290076   \n",
       "4   0.235294     0.954416  0.517241  0.380435  0.250410  0.472108   \n",
       "8   0.294118     0.622537  0.741379  0.108696  0.505087  0.617733   \n",
       "\n",
       "   Tryglicerides  Platelets  Prothrombin  Stage  \n",
       "1       0.229630   0.353774     0.486486      2  \n",
       "2       0.266667   0.365566     0.270270      2  \n",
       "3       0.103704   0.191038     0.324324      2  \n",
       "4       0.481481   0.191038     0.675676      1  \n",
       "8       0.597794   0.952830     0.513514      1  "
      ]
     },
     "execution_count": 11,
     "metadata": {},
     "output_type": "execute_result"
    }
   ],
   "source": [
    "df.head()"
   ]
  },
  {
   "cell_type": "markdown",
   "id": "17106357",
   "metadata": {},
   "source": [
    "Now , lets use few algorithms and then later choose the best one in the end"
   ]
  },
  {
   "cell_type": "code",
   "execution_count": 12,
   "id": "8178a231",
   "metadata": {},
   "outputs": [],
   "source": [
    "from sklearn.preprocessing import OneHotEncoder\n",
    "from sklearn.model_selection import train_test_split, GridSearchCV\n",
    "from sklearn.linear_model import LogisticRegression\n",
    "from sklearn.tree import DecisionTreeClassifier\n",
    "from sklearn.ensemble import RandomForestClassifier, GradientBoostingClassifier\n",
    "from sklearn.svm import SVC\n",
    "from sklearn.metrics import accuracy_score"
   ]
  },
  {
   "cell_type": "code",
   "execution_count": 13,
   "id": "01e57d25",
   "metadata": {},
   "outputs": [],
   "source": [
    "X = df.drop('Stage', axis=1)\n",
    "y = df['Stage']"
   ]
  },
  {
   "cell_type": "code",
   "execution_count": 14,
   "id": "595616db",
   "metadata": {},
   "outputs": [
    {
     "name": "stdout",
     "output_type": "stream",
     "text": [
      "Shape of features (X) after one-hot encoding: (15361, 27)\n",
      "Training data shape: (12288, 27), Testing data shape: (3073, 27)\n"
     ]
    }
   ],
   "source": [
    "categorical_cols = X.select_dtypes(include='object').columns\n",
    "\n",
    "encoder = OneHotEncoder(handle_unknown='ignore', sparse_output=False)\n",
    "encoded_features = encoder.fit_transform(X[categorical_cols])\n",
    "encoded_feature_names = encoder.get_feature_names_out(categorical_cols)\n",
    "encoded_df = pd.DataFrame(encoded_features, columns=encoded_feature_names, index=X.index)\n",
    "\n",
    "X = X.drop(categorical_cols, axis=1)\n",
    "X = pd.concat([X, encoded_df], axis=1)\n",
    "\n",
    "print(f\"Shape of features (X) after one-hot encoding: {X.shape}\")\n",
    "\n",
    "X_train, X_test, y_train, y_test = train_test_split(X, y, test_size=0.2, random_state=42, stratify=y)\n",
    "\n",
    "print(f\"Training data shape: {X_train.shape}, Testing data shape: {X_test.shape}\")\n",
    "\n",
    "model_accuracies = {}"
   ]
  },
  {
   "cell_type": "code",
   "execution_count": 15,
   "id": "ec5609a1",
   "metadata": {},
   "outputs": [
    {
     "name": "stdout",
     "output_type": "stream",
     "text": [
      "Best Logistic Regression Parameters: {'C': 1.0}\n",
      "Logistic Regression Accuracy: 0.6007\n"
     ]
    }
   ],
   "source": [
    "#Logistic Regression\n",
    "param_grid_lr = {'C': [0.1, 1.0, 10.0]}\n",
    "grid_search_lr = GridSearchCV(LogisticRegression(solver='liblinear', max_iter=200), param_grid_lr, cv=5, scoring='accuracy', n_jobs=-1)\n",
    "grid_search_lr.fit(X_train, y_train)\n",
    "best_lr_model = grid_search_lr.best_estimator_\n",
    "y_pred_lr = best_lr_model.predict(X_test)\n",
    "accuracy_lr = accuracy_score(y_test, y_pred_lr)\n",
    "model_accuracies['Logistic Regression'] = accuracy_lr\n",
    "print(f\"Best Logistic Regression Parameters: {grid_search_lr.best_params_}\")\n",
    "print(f\"Logistic Regression Accuracy: {accuracy_lr:.4f}\")"
   ]
  },
  {
   "cell_type": "code",
   "execution_count": 17,
   "id": "62ef46c7",
   "metadata": {},
   "outputs": [
    {
     "name": "stdout",
     "output_type": "stream",
     "text": [
      "Best Decision Tree Parameters: {'max_depth': 15, 'min_samples_leaf': 1}\n",
      "Decision Tree Accuracy: 0.9079\n"
     ]
    }
   ],
   "source": [
    "#Decision Tree\n",
    "param_grid_dt = {'max_depth': [5, 10, 15], 'min_samples_leaf': [1, 5, 10]}\n",
    "grid_search_dt = GridSearchCV(DecisionTreeClassifier(random_state=42), param_grid_dt, cv=5, scoring='accuracy', n_jobs=-1)\n",
    "grid_search_dt.fit(X_train, y_train)\n",
    "best_dt_model = grid_search_dt.best_estimator_\n",
    "y_pred_dt = best_dt_model.predict(X_test)\n",
    "accuracy_dt = accuracy_score(y_test, y_pred_dt)\n",
    "model_accuracies['Decision Tree'] = accuracy_dt\n",
    "print(f\"Best Decision Tree Parameters: {grid_search_dt.best_params_}\")\n",
    "print(f\"Decision Tree Accuracy: {accuracy_dt:.4f}\")"
   ]
  },
  {
   "cell_type": "code",
   "execution_count": 18,
   "id": "003ec1c3",
   "metadata": {},
   "outputs": [
    {
     "name": "stdout",
     "output_type": "stream",
     "text": [
      "Best Random Forest Parameters: {'max_depth': 20, 'n_estimators': 100}\n",
      "Random Forest Accuracy: 0.9476\n"
     ]
    }
   ],
   "source": [
    "#Random Forest\n",
    "param_grid_rf = {'n_estimators': [50, 100], 'max_depth': [10, 20]}\n",
    "grid_search_rf = GridSearchCV(RandomForestClassifier(random_state=42, n_jobs=-1), param_grid_rf, cv=5, scoring='accuracy')\n",
    "grid_search_rf.fit(X_train, y_train)\n",
    "best_rf_model = grid_search_rf.best_estimator_\n",
    "y_pred_rf = best_rf_model.predict(X_test)\n",
    "accuracy_rf = accuracy_score(y_test, y_pred_rf)\n",
    "model_accuracies['Random Forest'] = accuracy_rf\n",
    "print(f\"Best Random Forest Parameters: {grid_search_rf.best_params_}\")\n",
    "print(f\"Random Forest Accuracy: {accuracy_rf:.4f}\")"
   ]
  },
  {
   "cell_type": "code",
   "execution_count": 19,
   "id": "266a98b4",
   "metadata": {},
   "outputs": [
    {
     "name": "stdout",
     "output_type": "stream",
     "text": [
      "Best Gradient Boosting Parameters: {'learning_rate': 0.1, 'n_estimators': 100}\n",
      "Gradient Boosting Accuracy: 0.8604\n"
     ]
    }
   ],
   "source": [
    "#Gradient Boosting\n",
    "param_grid_gb = {'n_estimators': [50, 100], 'learning_rate': [0.05, 0.1]}\n",
    "grid_search_gb = GridSearchCV(GradientBoostingClassifier(random_state=42), param_grid_gb, cv=5, scoring='accuracy', n_jobs=-1)\n",
    "grid_search_gb.fit(X_train, y_train)\n",
    "best_gb_model = grid_search_gb.best_estimator_\n",
    "y_pred_gb = best_gb_model.predict(X_test)\n",
    "accuracy_gb = accuracy_score(y_test, y_pred_gb)\n",
    "model_accuracies['Gradient Boosting'] = accuracy_gb\n",
    "print(f\"Best Gradient Boosting Parameters: {grid_search_gb.best_params_}\")\n",
    "print(f\"Gradient Boosting Accuracy: {accuracy_gb:.4f}\")"
   ]
  },
  {
   "cell_type": "code",
   "execution_count": 20,
   "id": "232fb873",
   "metadata": {},
   "outputs": [
    {
     "name": "stdout",
     "output_type": "stream",
     "text": [
      "Best SVC Parameters: {'C': 1.0, 'kernel': 'rbf'}\n",
      "SVC Accuracy: 0.7319\n"
     ]
    }
   ],
   "source": [
    "#SVM\n",
    "param_grid_svc = {'C': [0.1, 1.0], 'kernel': ['linear', 'rbf']} \n",
    "grid_search_svc = GridSearchCV(SVC(random_state=42), param_grid_svc, cv=3, scoring='accuracy', n_jobs=-1) \n",
    "grid_search_svc.fit(X_train, y_train)\n",
    "best_svc_model = grid_search_svc.best_estimator_\n",
    "y_pred_svc = best_svc_model.predict(X_test)\n",
    "accuracy_svc = accuracy_score(y_test, y_pred_svc)\n",
    "model_accuracies['SVC'] = accuracy_svc\n",
    "print(f\"Best SVC Parameters: {grid_search_svc.best_params_}\")\n",
    "print(f\"SVC Accuracy: {accuracy_svc:.4f}\")"
   ]
  },
  {
   "cell_type": "code",
   "execution_count": 24,
   "id": "5598ba31",
   "metadata": {},
   "outputs": [
    {
     "name": "stdout",
     "output_type": "stream",
     "text": [
      "\n",
      "Model Performance Summary\n",
      "Random Forest: 0.9476\n",
      "Decision Tree: 0.9079\n",
      "Gradient Boosting: 0.8604\n",
      "SVC: 0.7319\n",
      "Logistic Regression: 0.6007\n",
      "\n",
      "Top 5 Models by Accuracy\n",
      "Random Forest (Accuracy: 0.9476)\n",
      "Decision Tree (Accuracy: 0.9079)\n",
      "Gradient Boosting (Accuracy: 0.8604)\n",
      "SVC (Accuracy: 0.7319)\n",
      "Logistic Regression (Accuracy: 0.6007)\n"
     ]
    }
   ],
   "source": [
    "print(\"\\nModel Performance Summary\")\n",
    "sorted_models = sorted(model_accuracies.items(), key=lambda item: item[1], reverse=True)\n",
    "\n",
    "for model_name, accuracy in sorted_models:\n",
    "    print(f\"{model_name}: {accuracy:.4f}\")\n",
    "\n",
    "print(\"\\nTop 5 Models by Accuracy\")\n",
    "for model_name, accuracy in sorted_models:\n",
    "    print(f\"{model_name} (Accuracy: {accuracy:.4f})\")"
   ]
  }
 ],
 "metadata": {
  "kernelspec": {
   "display_name": "Python 3",
   "language": "python",
   "name": "python3"
  },
  "language_info": {
   "codemirror_mode": {
    "name": "ipython",
    "version": 3
   },
   "file_extension": ".py",
   "mimetype": "text/x-python",
   "name": "python",
   "nbconvert_exporter": "python",
   "pygments_lexer": "ipython3",
   "version": "3.11.9"
  }
 },
 "nbformat": 4,
 "nbformat_minor": 5
}
